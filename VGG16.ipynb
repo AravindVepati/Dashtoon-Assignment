{
 "cells": [
  {
   "cell_type": "code",
   "execution_count": null,
   "id": "b2bcfa99",
   "metadata": {},
   "outputs": [],
   "source": [
    "from collections import namedtuple\n",
    "import torch\n",
    "from torchvision import models\n",
    "\n",
    "\n",
    "class PerceptualLossNet(torch.nn.Module):\n",
    "    def __init__(self, requires_grad=False, show_progress=False):\n",
    "        super().__init__()\n",
    "        vgg16 = models.vgg16(weights=models.VGG16_Weights.IMAGENET1K_V1, progress=show_progress).eval()\n",
    "        vgg_pretrained_features = vgg16.features\n",
    "        self.layer_names = ['relu1_2', 'relu2_2', 'relu3_3', 'relu4_3']\n",
    "\n",
    "        self.slice1 = torch.nn.Sequential()\n",
    "        self.slice2 = torch.nn.Sequential()\n",
    "        self.slice3 = torch.nn.Sequential()\n",
    "        self.slice4 = torch.nn.Sequential()\n",
    "        for x in range(4):\n",
    "            self.slice1.add_module(str(x), vgg_pretrained_features[x])\n",
    "        for x in range(4, 9):\n",
    "            self.slice2.add_module(str(x), vgg_pretrained_features[x])\n",
    "        for x in range(9, 16):\n",
    "            self.slice3.add_module(str(x), vgg_pretrained_features[x])\n",
    "        for x in range(16, 23):\n",
    "            self.slice4.add_module(str(x), vgg_pretrained_features[x])\n",
    "\n",
    "        if not requires_grad:\n",
    "            for param in self.parameters():\n",
    "                param.requires_grad = False\n",
    "\n",
    "    def forward(self, x):\n",
    "        x = self.slice1(x)\n",
    "        relu1_2 = x\n",
    "        x = self.slice2(x)\n",
    "        relu2_2 = x\n",
    "        x = self.slice3(x)\n",
    "        relu3_3 = x\n",
    "        x = self.slice4(x)\n",
    "        relu4_3 = x\n",
    "        vgg_outputs = namedtuple(\"VggOutputs\", self.layer_names)\n",
    "        out = vgg_outputs(relu1_2, relu2_2, relu3_3, relu4_3)\n",
    "        return out\n"
   ]
  }
 ],
 "metadata": {
  "kernelspec": {
   "display_name": "Python 3 (ipykernel)",
   "language": "python",
   "name": "python3"
  },
  "language_info": {
   "codemirror_mode": {
    "name": "ipython",
    "version": 3
   },
   "file_extension": ".py",
   "mimetype": "text/x-python",
   "name": "python",
   "nbconvert_exporter": "python",
   "pygments_lexer": "ipython3",
   "version": "3.9.12"
  }
 },
 "nbformat": 4,
 "nbformat_minor": 5
}
